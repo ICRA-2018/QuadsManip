{
 "cells": [
  {
   "cell_type": "markdown",
   "metadata": {},
   "source": [
    "# QuadsManip\n",
    "\n",
    "**Cooperative Manipulation using Multiple Quadrotors without Communication**\n",
    "\n",
    "Click to watch demo video:\n",
    "\n",
    "<a href=\"https://www.youtube.com/embed/MYOgharJuoY\" target=\"_blank\"><img src=\"https://img.youtube.com/vi/MYOgharJuoY/0.jpg\" \n",
    "alt=\"cla\" width=\"240\" height=\"180\" border=\"10\" /></a>\n",
    "\n",
    "This repository contains the simulation code of the following <a href=\"https://msl.stanford.edu/sites/default/files/wang.singh_.pavone.ea_.icra18.pdf\" target=\"_blank\">ICRA 18 paper</a>:\n",
    "\n",
    "Z. Wang, S. Singh, M. Pavone, and M. Schwager, “Cooperative object transport in 3D with multiple quadrotors using no peer communication,” In Proc. International Conference on Robotics and Automation (ICRA), Brisbane, Australia, 2018\n",
    "\n",
    "\n",
    "Code author: <a href=\"http://web.stanford.edu/~zjwang/\" target=\"_blank\">Zijian Wang</a>, Stanford University\n",
    "\n",
    "\n",
    "## Quickstart and Demo"
   ]
  },
  {
   "cell_type": "code",
   "execution_count": null,
   "metadata": {},
   "outputs": [],
   "source": [
    "python demo_main.py"
   ]
  },
  {
   "cell_type": "code",
   "execution_count": null,
   "metadata": {},
   "outputs": [],
   "source": [
    "python demo_single_quad.py"
   ]
  },
  {
   "cell_type": "code",
   "execution_count": null,
   "metadata": {},
   "outputs": [],
   "source": [
    "python demo_traj_opt.py"
   ]
  },
  {
   "cell_type": "code",
   "execution_count": null,
   "metadata": {},
   "outputs": [],
   "source": [
    "python demo_traj_opt_time.py"
   ]
  },
  {
   "cell_type": "markdown",
   "metadata": {},
   "source": [
    "The code has been tested in Mac OS 10.11 and Ubuntu 16.04.\n",
    "\n",
    "This repo does not contain rviz visualization as used in the paper in order to minimize dependency and ease the use of the code. Instead, `matplotlib` is used for visualization.\n",
    "\n",
    "\n",
    "## Python Dependencies\n",
    "- **Python 2.7**\n",
    "\n",
    "- numpy: v1.11.3\n",
    "\n",
    "- matplotlib: v2.0.0\n",
    "\n",
    "- (optional) cvxpy: v0.4.11\n",
    "\n",
    "\n",
    "## Citation\n",
    "\n",
    "If you find our work useful in your research, please consider citing:"
   ]
  },
  {
   "cell_type": "code",
   "execution_count": null,
   "metadata": {},
   "outputs": [],
   "source": [
    "@inproceedings{WangEtAlICRA18MultiQuadManipulation,\n",
    "author = {Z. Wang and S. Singh and M. Pavone and M. Schwager}, \n",
    "title = {Cooperative Object Transport in 3D with Multiple Quadrotors using No Peer Communication},\n",
    "booktitle = {Proc. of the International Conference on Robotics and Automation (ICRA)},\n",
    "year = {2018}\n",
    "}"
   ]
  },
  {
   "cell_type": "markdown",
   "metadata": {},
   "source": [
    "## License\n",
    "\n",
    "Our code is released under MIT License (see LICENSE file for details).\n",
    "\n",
    "For any technical issues, please contact Zijian Wang <zjwang_AT_stanford_DOT_edu>, or open an issue in Github."
   ]
  }
 ],

 "metadata": {
  "kernelspec": {
   "display_name": "Bash",
   "language": "bash",
   "name": "bash"
  },
  "language_info": {
   "codemirror_mode": "shell",
   "file_extension": ".sh",
   "mimetype": "text/x-sh",
   "name": "bash"
  }
 },
 "nbformat": 4,
 "nbformat_minor": 2
}
